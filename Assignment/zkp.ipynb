{
 "cells": [
  {
   "cell_type": "markdown",
   "metadata": {},
   "source": [
    "### Non Interactive Approach"
   ]
  },
  {
   "cell_type": "markdown",
   "metadata": {},
   "source": [
    "https://github.com/codeesura/Zero-Knowledge-Proof-Python-Implementation"
   ]
  },
  {
   "cell_type": "code",
   "execution_count": 1,
   "metadata": {},
   "outputs": [],
   "source": [
    "import hashlib\n",
    "import os\n",
    "import random"
   ]
  },
  {
   "cell_type": "code",
   "execution_count": 2,
   "metadata": {},
   "outputs": [],
   "source": [
    "class ZKProof:\n",
    "    def __init__(self):\n",
    "        self.N = 20\n",
    "        self.salt = os.urandom(16)\n",
    "\n",
    "    def _hash(self, x):\n",
    "        return hashlib.sha256(x.encode('utf-8') + self.salt).hexdigest()\n",
    "\n",
    "    def generate_proof(self, secret):\n",
    "        self.secret = secret\n",
    "        self.v = self._hash(secret)\n",
    "        r = str(random.randint(1, self.N))\n",
    "        self.x = self._hash(r)\n",
    "        return self.x\n",
    "\n",
    "    def get_secret(self):\n",
    "        return self.secret\n",
    "\n",
    "    def verify(self, response):\n",
    "        return self.v == self._hash(response)\n"
   ]
  },
  {
   "cell_type": "code",
   "execution_count": 3,
   "metadata": {},
   "outputs": [],
   "source": [
    "zkp = ZKProof()"
   ]
  },
  {
   "cell_type": "code",
   "execution_count": 4,
   "metadata": {},
   "outputs": [],
   "source": [
    "secret_card = 'spade_two' # Here we define the secret card"
   ]
  },
  {
   "cell_type": "code",
   "execution_count": 5,
   "metadata": {},
   "outputs": [],
   "source": [
    "x = zkp.generate_proof(secret_card)"
   ]
  },
  {
   "cell_type": "code",
   "execution_count": 7,
   "metadata": {},
   "outputs": [
    {
     "name": "stdout",
     "output_type": "stream",
     "text": [
      "Proof: d521fda8dabbc600162d35add9433a6e5812db7e69e07c3ee7783acf45f38da3\n"
     ]
    }
   ],
   "source": [
    "print('Proof:', x)"
   ]
  },
  {
   "cell_type": "code",
   "execution_count": 12,
   "metadata": {},
   "outputs": [
    {
     "data": {
      "text/plain": [
       "'spade_two'"
      ]
     },
     "execution_count": 12,
     "metadata": {},
     "output_type": "execute_result"
    }
   ],
   "source": [
    "zkp.get_secret()"
   ]
  },
  {
   "cell_type": "code",
   "execution_count": 10,
   "metadata": {},
   "outputs": [],
   "source": [
    "response = input('Enter the card to verify: ')"
   ]
  },
  {
   "cell_type": "code",
   "execution_count": 11,
   "metadata": {},
   "outputs": [
    {
     "name": "stdout",
     "output_type": "stream",
     "text": [
      "Verified: True\n"
     ]
    }
   ],
   "source": [
    "print('Verified:', zkp.verify(response))"
   ]
  }
 ],
 "metadata": {
  "kernelspec": {
   "display_name": ".venv",
   "language": "python",
   "name": "python3"
  },
  "language_info": {
   "codemirror_mode": {
    "name": "ipython",
    "version": 3
   },
   "file_extension": ".py",
   "mimetype": "text/x-python",
   "name": "python",
   "nbconvert_exporter": "python",
   "pygments_lexer": "ipython3",
   "version": "3.13.2"
  }
 },
 "nbformat": 4,
 "nbformat_minor": 2
}
