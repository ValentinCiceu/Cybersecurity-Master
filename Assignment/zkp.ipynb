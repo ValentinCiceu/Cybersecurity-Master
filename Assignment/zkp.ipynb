{
 "cells": [
  {
   "cell_type": "markdown",
   "metadata": {},
   "source": [
    "### Non Interactive Approach"
   ]
  },
  {
   "cell_type": "code",
   "execution_count": 1,
   "metadata": {},
   "outputs": [],
   "source": [
    "import hashlib\n",
    "import os\n",
    "import random"
   ]
  },
  {
   "cell_type": "code",
   "execution_count": 2,
   "metadata": {},
   "outputs": [],
   "source": [
    "class ZKProof:\n",
    "    def __init__(self):\n",
    "        self.N = 20\n",
    "        self.salt = os.urandom(16)\n",
    "\n",
    "    def _hash(self, x):\n",
    "        return hashlib.sha256(x.encode('utf-8') + self.salt).hexdigest()\n",
    "\n",
    "    def generate_proof(self, secret):\n",
    "        self.secret = secret\n",
    "        self.v = self._hash(secret)\n",
    "        r = str(random.randint(1, self.N))\n",
    "        self.x = self._hash(r)\n",
    "        return self.x\n",
    "\n",
    "    def get_secret(self):\n",
    "        return self.secret\n",
    "\n",
    "    def verify(self, response):\n",
    "        return self.v == self._hash(response)\n"
   ]
  },
  {
   "cell_type": "code",
   "execution_count": 3,
   "metadata": {},
   "outputs": [],
   "source": [
    "zkp = ZKProof()"
   ]
  },
  {
   "cell_type": "code",
   "execution_count": 4,
   "metadata": {},
   "outputs": [],
   "source": [
    "secret_card = 'spade_two' # Here we define the secret card"
   ]
  },
  {
   "cell_type": "code",
   "execution_count": 5,
   "metadata": {},
   "outputs": [],
   "source": [
    "x = zkp.generate_proof(secret_card)"
   ]
  },
  {
   "cell_type": "code",
   "execution_count": 7,
   "metadata": {},
   "outputs": [
    {
     "name": "stdout",
     "output_type": "stream",
     "text": [
      "Proof: d521fda8dabbc600162d35add9433a6e5812db7e69e07c3ee7783acf45f38da3\n"
     ]
    }
   ],
   "source": [
    "print('Proof:', x)"
   ]
  },
  {
   "cell_type": "code",
   "execution_count": 12,
   "metadata": {},
   "outputs": [
    {
     "data": {
      "text/plain": [
       "'spade_two'"
      ]
     },
     "execution_count": 12,
     "metadata": {},
     "output_type": "execute_result"
    }
   ],
   "source": [
    "zkp.get_secret()"
   ]
  },
  {
   "cell_type": "code",
   "execution_count": 10,
   "metadata": {},
   "outputs": [],
   "source": [
    "response = input('Enter the card to verify: ')"
   ]
  },
  {
   "cell_type": "code",
   "execution_count": 11,
   "metadata": {},
   "outputs": [
    {
     "name": "stdout",
     "output_type": "stream",
     "text": [
      "Verified: True\n"
     ]
    }
   ],
   "source": [
    "print('Verified:', zkp.verify(response))"
   ]
  },
  {
   "cell_type": "markdown",
   "metadata": {},
   "source": [
    "### Interactive approach\n",
    "Proving that you know the square root of a number modulo a prime,"
   ]
  },
  {
   "cell_type": "code",
   "execution_count": 21,
   "metadata": {},
   "outputs": [],
   "source": [
    "p = 23\n",
    "x = 5\n",
    "v = (x * x) % p  # Public value"
   ]
  },
  {
   "cell_type": "code",
   "execution_count": 22,
   "metadata": {},
   "outputs": [
    {
     "data": {
      "text/plain": [
       "2"
      ]
     },
     "execution_count": 22,
     "metadata": {},
     "output_type": "execute_result"
    }
   ],
   "source": [
    "v"
   ]
  },
  {
   "cell_type": "code",
   "execution_count": 23,
   "metadata": {},
   "outputs": [],
   "source": [
    "def prover_commit():\n",
    "    r = random.randint(1, p-1)\n",
    "    t = (r * r) % p\n",
    "    return r, t"
   ]
  },
  {
   "cell_type": "code",
   "execution_count": 24,
   "metadata": {},
   "outputs": [],
   "source": [
    "def verifier_challenge():\n",
    "    return random.randint(0, 1)"
   ]
  },
  {
   "cell_type": "code",
   "execution_count": 25,
   "metadata": {},
   "outputs": [],
   "source": [
    "def prover_response(r, c):\n",
    "    if c == 0:\n",
    "        return r\n",
    "    else:\n",
    "        return (r * x) % p"
   ]
  },
  {
   "cell_type": "code",
   "execution_count": 26,
   "metadata": {},
   "outputs": [],
   "source": [
    "def verifier_check(t, s, c):\n",
    "    if c == 0:\n",
    "        return (s * s) % p == t\n",
    "    else:\n",
    "        return (s * s) % p == (t * v) % p"
   ]
  },
  {
   "cell_type": "code",
   "execution_count": 28,
   "metadata": {},
   "outputs": [],
   "source": [
    "def zk_proof_round():\n",
    "    print(\"\\nNew round of ZKP!\")\n",
    "    r, t = prover_commit()\n",
    "    print(f\"Prover commits t = {t}\")\n",
    "\n",
    "    c = verifier_challenge()\n",
    "    print(f\"Verifier sends challenge c = {c}\")\n",
    "\n",
    "    s = prover_response(r, c)\n",
    "    print(f\"Prover responds with s = {s}\")\n",
    "\n",
    "    if verifier_check(t, s, c):\n",
    "        print(\"Verifier accepts the proof!\")\n",
    "    else:\n",
    "        print(\"Verifier rejects the proof!\")"
   ]
  },
  {
   "cell_type": "code",
   "execution_count": 29,
   "metadata": {},
   "outputs": [
    {
     "name": "stdout",
     "output_type": "stream",
     "text": [
      "\n",
      "New round of ZKP!\n",
      "Prover commits t = 1\n",
      "Verifier sends challenge c = 1\n",
      "Prover responds with s = 18\n",
      "Verifier accepts the proof!\n",
      "\n",
      "New round of ZKP!\n",
      "Prover commits t = 1\n",
      "Verifier sends challenge c = 1\n",
      "Prover responds with s = 5\n",
      "Verifier accepts the proof!\n",
      "\n",
      "New round of ZKP!\n",
      "Prover commits t = 9\n",
      "Verifier sends challenge c = 1\n",
      "Prover responds with s = 15\n",
      "Verifier accepts the proof!\n",
      "\n",
      "New round of ZKP!\n",
      "Prover commits t = 3\n",
      "Verifier sends challenge c = 1\n",
      "Prover responds with s = 11\n",
      "Verifier accepts the proof!\n",
      "\n",
      "New round of ZKP!\n",
      "Prover commits t = 12\n",
      "Verifier sends challenge c = 0\n",
      "Prover responds with s = 9\n",
      "Verifier accepts the proof!\n"
     ]
    }
   ],
   "source": [
    "# Run multiple rounds to increase confidence\n",
    "for _ in range(5):\n",
    "    zk_proof_round()"
   ]
  }
 ],
 "metadata": {
  "kernelspec": {
   "display_name": ".venv",
   "language": "python",
   "name": "python3"
  },
  "language_info": {
   "codemirror_mode": {
    "name": "ipython",
    "version": 3
   },
   "file_extension": ".py",
   "mimetype": "text/x-python",
   "name": "python",
   "nbconvert_exporter": "python",
   "pygments_lexer": "ipython3",
   "version": "3.13.2"
  }
 },
 "nbformat": 4,
 "nbformat_minor": 2
}
