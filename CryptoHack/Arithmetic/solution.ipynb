{
 "cells": [
  {
   "cell_type": "markdown",
   "metadata": {},
   "source": [
    "### Greates Common Divisor"
   ]
  },
  {
   "cell_type": "code",
   "execution_count": 3,
   "metadata": {},
   "outputs": [],
   "source": [
    "import numpy as np"
   ]
  },
  {
   "cell_type": "code",
   "execution_count": 4,
   "metadata": {},
   "outputs": [
    {
     "data": {
      "text/plain": [
       "np.int64(1512)"
      ]
     },
     "execution_count": 4,
     "metadata": {},
     "output_type": "execute_result"
    }
   ],
   "source": [
    "np.gcd(66528, 52920)"
   ]
  },
  {
   "cell_type": "markdown",
   "metadata": {},
   "source": [
    "### Extend GCD"
   ]
  },
  {
   "cell_type": "code",
   "execution_count": 5,
   "metadata": {},
   "outputs": [],
   "source": [
    "p=26513\n",
    "q=32321"
   ]
  },
  {
   "cell_type": "code",
   "execution_count": 8,
   "metadata": {},
   "outputs": [
    {
     "name": "stdout",
     "output_type": "stream",
     "text": [
      "gcd(26513, 32321) = 1\n",
      "Values of u and v: u = 10245, v = -8404\n"
     ]
    }
   ],
   "source": [
    "def extended_gcd(a, b):\n",
    "    if a == 0:\n",
    "        return b, 0, 1\n",
    "    else:\n",
    "        gcd, u1, v1 = extended_gcd(b % a, a)\n",
    "        u = v1 - (b // a) * u1\n",
    "        v = u1\n",
    "        return gcd, u, v\n",
    "\n",
    "# Given values\n",
    "p = 26513\n",
    "q = 32321\n",
    "\n",
    "# Compute extended GCD\n",
    "gcd_val, u, v = extended_gcd(p, q)\n",
    "\n",
    "print(f\"gcd({p}, {q}) = {gcd_val}\")\n",
    "print(f\"Values of u and v: u = {u}, v = {v}\")"
   ]
  },
  {
   "cell_type": "code",
   "execution_count": 10,
   "metadata": {},
   "outputs": [
    {
     "name": "stdout",
     "output_type": "stream",
     "text": [
      "1 , 10245 , -8404\n"
     ]
    }
   ],
   "source": [
    "def extended_gcd(a, b): \n",
    "    # Base Case \n",
    "    if a == 0 : \n",
    "        return b,0,1\n",
    "             \n",
    "    gcd,x1,y1 = extended_gcd(b%a, a) \n",
    "     \n",
    "    x = y1 - (b//a) * x1 \n",
    "    y = x1 \n",
    "     \n",
    "    return gcd,x,y \n",
    "     \n",
    " \n",
    "# Driver code \n",
    "gcd, x, y = extended_gcd(p, q) \n",
    "print(f\"{gcd} , {x} , {y}\") "
   ]
  },
  {
   "cell_type": "markdown",
   "metadata": {},
   "source": [
    "### Modular Arithmetic 1"
   ]
  },
  {
   "cell_type": "code",
   "execution_count": 12,
   "metadata": {},
   "outputs": [
    {
     "name": "stdout",
     "output_type": "stream",
     "text": [
      "11 mod 6 = 5\n",
      "8146798528947 mod 17 = 4\n"
     ]
    }
   ],
   "source": [
    "# Compute modulo values\n",
    "x = 11 % 6\n",
    "y = 8146798528947 % 17\n",
    "\n",
    "print(f\"11 mod 6 = {11 % 6}\")\n",
    "print(f\"8146798528947 mod 17 = {8146798528947 % 17}\")"
   ]
  },
  {
   "cell_type": "markdown",
   "metadata": {},
   "source": [
    "### Modular Arithmetic 2"
   ]
  },
  {
   "cell_type": "code",
   "execution_count": 15,
   "metadata": {},
   "outputs": [
    {
     "name": "stdout",
     "output_type": "stream",
     "text": [
      "3\n",
      "1\n",
      "1\n"
     ]
    }
   ],
   "source": [
    "print(f\"{pow(3,17,17)}\")\n",
    "print(f\"{pow(7,16,17)}\")\n",
    "print(f\"{pow(273246787654,65536,65537)}\")"
   ]
  },
  {
   "cell_type": "markdown",
   "metadata": {},
   "source": [
    "### Modular Inverting\n",
    "Fermats little theorem\n",
    "3^13−1≡1 (mod 13)\n"
   ]
  },
  {
   "cell_type": "code",
   "execution_count": 17,
   "metadata": {},
   "outputs": [
    {
     "name": "stdout",
     "output_type": "stream",
     "text": [
      "9\n"
     ]
    }
   ],
   "source": [
    "a = 3\n",
    "m = 13\n",
    "\n",
    "# Using Fermat's Little Theorem\n",
    "inverse = pow(a, m - 2, m)\n",
    "print(inverse)"
   ]
  },
  {
   "cell_type": "markdown",
   "metadata": {},
   "source": [
    "### Quadratic Residues"
   ]
  },
  {
   "cell_type": "code",
   "execution_count": 18,
   "metadata": {},
   "outputs": [],
   "source": [
    "p = 29\n",
    "ints = [14,6,11]"
   ]
  },
  {
   "cell_type": "code",
   "execution_count": null,
   "metadata": {},
   "outputs": [],
   "source": []
  }
 ],
 "metadata": {
  "kernelspec": {
   "display_name": ".venv",
   "language": "python",
   "name": "python3"
  },
  "language_info": {
   "codemirror_mode": {
    "name": "ipython",
    "version": 3
   },
   "file_extension": ".py",
   "mimetype": "text/x-python",
   "name": "python",
   "nbconvert_exporter": "python",
   "pygments_lexer": "ipython3",
   "version": "3.13.3"
  }
 },
 "nbformat": 4,
 "nbformat_minor": 2
}
