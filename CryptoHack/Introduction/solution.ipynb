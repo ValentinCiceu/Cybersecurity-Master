{
 "cells": [
  {
   "cell_type": "markdown",
   "metadata": {},
   "source": [
    "### ASCII converstion"
   ]
  },
  {
   "cell_type": "code",
   "execution_count": 1,
   "metadata": {},
   "outputs": [],
   "source": [
    "vals = [99, 114, 121, 112, 116, 111, 123, 65, 83, 67, 73, 73, 95, 112, 114, 49, 110, 116, 52, 98, 108, 51, 125]"
   ]
  },
  {
   "cell_type": "code",
   "execution_count": 10,
   "metadata": {},
   "outputs": [
    {
     "name": "stdout",
     "output_type": "stream",
     "text": [
      "crypto{ASCII_pr1nt4bl3}\n"
     ]
    }
   ],
   "source": [
    "t = \"\"\n",
    "for i in vals:\n",
    "    t = t + str(chr(i))\n",
    "print(t)"
   ]
  },
  {
   "cell_type": "markdown",
   "metadata": {},
   "source": [
    "### Hex"
   ]
  },
  {
   "cell_type": "code",
   "execution_count": 11,
   "metadata": {},
   "outputs": [],
   "source": [
    "v = \"63727970746f7b596f755f77696c6c5f62655f776f726b696e675f776974685f6865785f737472696e67735f615f6c6f747d\""
   ]
  },
  {
   "cell_type": "code",
   "execution_count": 12,
   "metadata": {},
   "outputs": [
    {
     "data": {
      "text/plain": [
       "'crypto{You_will_be_working_with_hex_strings_a_lot}'"
      ]
     },
     "execution_count": 12,
     "metadata": {},
     "output_type": "execute_result"
    }
   ],
   "source": [
    "bytes.fromhex(v).decode()"
   ]
  },
  {
   "cell_type": "markdown",
   "metadata": {},
   "source": [
    "### Base64"
   ]
  },
  {
   "cell_type": "code",
   "execution_count": 13,
   "metadata": {},
   "outputs": [],
   "source": [
    "import base64\n",
    "\n",
    "base = \"72bca9b68fc16ac7beeb8f849dca1d8a783e8acf9679bf9269f7bf\""
   ]
  },
  {
   "cell_type": "code",
   "execution_count": 15,
   "metadata": {},
   "outputs": [
    {
     "name": "stdout",
     "output_type": "stream",
     "text": [
      "crypto/Base+64+Encoding+is+Web+Safe/\n"
     ]
    }
   ],
   "source": [
    "val = bytes.fromhex(base)\n",
    "base_val = base64.b64encode(val).decode()\n",
    "print(base_val)"
   ]
  },
  {
   "cell_type": "markdown",
   "metadata": {},
   "source": [
    "### Bytes and Big Integers"
   ]
  },
  {
   "cell_type": "code",
   "execution_count": 46,
   "metadata": {},
   "outputs": [],
   "source": [
    "# !pip install PyCryptodome"
   ]
  },
  {
   "cell_type": "code",
   "execution_count": 17,
   "metadata": {},
   "outputs": [],
   "source": [
    "from Crypto.Util.number import long_to_bytes"
   ]
  },
  {
   "cell_type": "code",
   "execution_count": 18,
   "metadata": {},
   "outputs": [
    {
     "name": "stdout",
     "output_type": "stream",
     "text": [
      "crypto{3nc0d1n6_4ll_7h3_w4y_d0wn}\n"
     ]
    }
   ],
   "source": [
    "v = 11515195063862318899931685488813747395775516287289682636499965282714637259206269\n",
    "val = long_to_bytes(v).decode() \n",
    "print(val) "
   ]
  },
  {
   "cell_type": "markdown",
   "metadata": {},
   "source": [
    "### XOR"
   ]
  },
  {
   "cell_type": "code",
   "execution_count": 19,
   "metadata": {},
   "outputs": [],
   "source": [
    "str_val = \"label\"\n",
    "target_xor = 13"
   ]
  },
  {
   "cell_type": "code",
   "execution_count": 20,
   "metadata": {},
   "outputs": [],
   "source": [
    "t = \"\"\n",
    "for i in str_val:\n",
    "    t = t + (chr(ord(i) ^ target_xor))"
   ]
  },
  {
   "cell_type": "code",
   "execution_count": 24,
   "metadata": {},
   "outputs": [
    {
     "name": "stdout",
     "output_type": "stream",
     "text": [
      "crypto[aloha]\n"
     ]
    }
   ],
   "source": [
    "print(f\"crypto[{t}]\")"
   ]
  },
  {
   "cell_type": "markdown",
   "metadata": {},
   "source": [
    "### XOR Properties"
   ]
  },
  {
   "cell_type": "code",
   "execution_count": 25,
   "metadata": {},
   "outputs": [],
   "source": [
    "def xor_bytes(byte1: bytes, byte2: bytes) -> bytes:\n",
    "    return bytes([b1 ^ b2 for b1, b2 in zip(byte1, byte2)])"
   ]
  },
  {
   "cell_type": "code",
   "execution_count": 34,
   "metadata": {},
   "outputs": [],
   "source": [
    "KEY1 = \"a6c8b6733c9b22de7bc0253266a3867df55acde8635e19c73313\"\n",
    "KEY2_XOR_KEY1 = \"37dcb292030faa90d07eec17e3b1c6d8daf94c35d4c9191a5e1e\"\n",
    "KEY2_XOR_KEY3 = \"c1545756687e7573db23aa1c3452a098b71a7fbf0fddddde5fc1\"\n",
    "FLAG_XOR = \"04ee9855208a2cd59091d04767ae47963170d1660df7f56f5faf\""
   ]
  },
  {
   "cell_type": "code",
   "execution_count": 35,
   "metadata": {},
   "outputs": [],
   "source": [
    "key1_hex = bytes.fromhex(KEY1)\n",
    "key2_xor_key1_hex = bytes.fromhex(KEY2_XOR_KEY1)\n",
    "Key2_xor_key3_hex = bytes.fromhex(KEY2_XOR_KEY3)\n",
    "flag_xor_key1_xor_key3_xor_key2 = bytes.fromhex(FLAG_XOR)"
   ]
  },
  {
   "cell_type": "code",
   "execution_count": 36,
   "metadata": {},
   "outputs": [
    {
     "name": "stdout",
     "output_type": "stream",
     "text": [
      "b'\\x91\\x14\\x04\\xe1?\\x94\\x88N\\xab\\xbe\\xc9%\\x85\\x12@\\xa5/\\xa3\\x81\\xdd\\xb7\\x97\\x00\\xddm\\r'\n"
     ]
    }
   ],
   "source": [
    "KEY2 = xor_bytes(key2_xor_key1_hex, key1_hex)\n",
    "print(KEY2)"
   ]
  },
  {
   "cell_type": "code",
   "execution_count": 37,
   "metadata": {},
   "outputs": [
    {
     "name": "stdout",
     "output_type": "stream",
     "text": [
      "b'P@S\\xb7W\\xea\\xfd=p\\x9dc9\\xb1@\\xe0=\\x98\\xb9\\xfeb\\xb8J\\xdd\\x032\\xcc'\n"
     ]
    }
   ],
   "source": [
    "KEY3 = xor_bytes(Key2_xor_key3_hex, KEY2)\n",
    "print(KEY3)"
   ]
  },
  {
   "cell_type": "code",
   "execution_count": 38,
   "metadata": {},
   "outputs": [
    {
     "name": "stdout",
     "output_type": "stream",
     "text": [
      "b'crypto{x0r_i5_ass0c1at1v3}'\n"
     ]
    }
   ],
   "source": [
    "FLAG_Key = xor_bytes(xor_bytes(flag_xor_key1_xor_key3_xor_key2, key1_hex), xor_bytes(KEY3, KEY2))\n",
    "print(FLAG_Key)"
   ]
  },
  {
   "cell_type": "markdown",
   "metadata": {},
   "source": [
    "### Favourite Byte"
   ]
  },
  {
   "cell_type": "code",
   "execution_count": 42,
   "metadata": {},
   "outputs": [],
   "source": [
    "val = \"73626960647f6b206821204f21254f7d694f7624662065622127234f726927756d\""
   ]
  },
  {
   "cell_type": "code",
   "execution_count": 43,
   "metadata": {},
   "outputs": [],
   "source": [
    "val_hex = bytes.fromhex(val)"
   ]
  },
  {
   "cell_type": "code",
   "execution_count": null,
   "metadata": {},
   "outputs": [],
   "source": [
    "key = val_hex[0] ^ ord('c')"
   ]
  },
  {
   "cell_type": "code",
   "execution_count": 41,
   "metadata": {},
   "outputs": [
    {
     "name": "stdout",
     "output_type": "stream",
     "text": [
      "crypto{0x10_15_my_f4v0ur173_by7e}\n"
     ]
    }
   ],
   "source": [
    "input_str = bytes.fromhex('73626960647f6b206821204f21254f7d694f7624662065622127234f726927756d')\n",
    "\n",
    "key = input_str[0] ^ ord('c')\n",
    "print(''.join(chr(c ^ key) for c in input_str))"
   ]
  },
  {
   "cell_type": "markdown",
   "metadata": {},
   "source": [
    "### You Either know XOR you don't"
   ]
  },
  {
   "cell_type": "code",
   "execution_count": 57,
   "metadata": {},
   "outputs": [],
   "source": [
    "enc_flag = \"0e0b213f26041e480b26217f27342e175d0e070a3c5b103e2526217f27342e175d0e077e263451150104\"\n",
    "enc_flag_hex = bytes.fromhex(enc_flag)"
   ]
  },
  {
   "cell_type": "code",
   "execution_count": 58,
   "metadata": {},
   "outputs": [
    {
     "name": "stdout",
     "output_type": "stream",
     "text": [
      "b\"\\x0e\\x0b!?&\\x04\\x1eH\\x0b&!\\x7f'4.\\x17]\\x0e\\x07\\n<[\\x10>%&!\\x7f'4.\\x17]\\x0e\\x07~&4Q\\x15\\x01\\x04\"\n"
     ]
    }
   ],
   "source": [
    "print(enc_flag_hex)"
   ]
  },
  {
   "cell_type": "code",
   "execution_count": 62,
   "metadata": {},
   "outputs": [],
   "source": [
    "flag_state = b\"crypto{\""
   ]
  },
  {
   "cell_type": "code",
   "execution_count": 63,
   "metadata": {},
   "outputs": [],
   "source": [
    "key = [a ^ b for (a, b) in zip(enc_flag_hex, flag_state)] + [ord(\"y\")]"
   ]
  },
  {
   "cell_type": "code",
   "execution_count": 64,
   "metadata": {},
   "outputs": [
    {
     "name": "stdout",
     "output_type": "stream",
     "text": [
      "[109, 121, 88, 79, 82, 107, 101, 121]\n"
     ]
    }
   ],
   "source": [
    "print(key)"
   ]
  },
  {
   "cell_type": "code",
   "execution_count": 66,
   "metadata": {},
   "outputs": [],
   "source": [
    "flag = []\n",
    "key_len = len(key)"
   ]
  },
  {
   "cell_type": "code",
   "execution_count": 67,
   "metadata": {},
   "outputs": [],
   "source": [
    "for i in range(len(enc_flag_hex)):\n",
    "    flag.append(\n",
    "        enc_flag_hex[i] ^ key[i % key_len]\n",
    "    )\n",
    "flag = \"\".join(chr(o) for o in flag)"
   ]
  },
  {
   "cell_type": "code",
   "execution_count": 68,
   "metadata": {},
   "outputs": [
    {
     "name": "stdout",
     "output_type": "stream",
     "text": [
      "crypto{1f_y0u_Kn0w_En0uGH_y0u_Kn0w_1t_4ll}\n"
     ]
    }
   ],
   "source": [
    "print(flag)"
   ]
  },
  {
   "cell_type": "markdown",
   "metadata": {},
   "source": [
    "### Transparancey\n",
    "\n",
    "subdomain found using subdomain finder tool online:\n",
    "\n",
    "https://thetransparencyflagishere.cryptohack.org/"
   ]
  },
  {
   "cell_type": "markdown",
   "metadata": {},
   "source": [
    "### Data Formats"
   ]
  }
 ],
 "metadata": {
  "kernelspec": {
   "display_name": ".venv",
   "language": "python",
   "name": "python3"
  },
  "language_info": {
   "codemirror_mode": {
    "name": "ipython",
    "version": 3
   },
   "file_extension": ".py",
   "mimetype": "text/x-python",
   "name": "python",
   "nbconvert_exporter": "python",
   "pygments_lexer": "ipython3",
   "version": "3.13.3"
  }
 },
 "nbformat": 4,
 "nbformat_minor": 2
}
