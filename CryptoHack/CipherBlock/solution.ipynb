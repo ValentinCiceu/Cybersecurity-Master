{
 "cells": [
  {
   "cell_type": "markdown",
   "metadata": {},
   "source": [
    "### Matrix to bytes"
   ]
  },
  {
   "cell_type": "code",
   "execution_count": 1,
   "metadata": {},
   "outputs": [
    {
     "name": "stdout",
     "output_type": "stream",
     "text": [
      "b'crypto{inmatrix}'\n"
     ]
    }
   ],
   "source": [
    "def bytes2matrix(text):\n",
    "    \"\"\" Converts a 16-byte array into a 4x4 matrix.  \"\"\"\n",
    "    return [list(text[i:i+4]) for i in range(0, len(text), 4)]\n",
    "\n",
    "def matrix2bytes(matrix):\n",
    "    \"\"\" Converts a 4x4 matrix into a 16-byte array.  \"\"\"\n",
    "    return bytes([byte for row in matrix for byte in row])\n",
    "\n",
    "matrix = [\n",
    "    [99, 114, 121, 112],\n",
    "    [116, 111, 123, 105],\n",
    "    [110, 109, 97, 116],\n",
    "    [114, 105, 120, 125],\n",
    "]\n",
    "\n",
    "print(matrix2bytes(matrix))\n"
   ]
  },
  {
   "cell_type": "markdown",
   "metadata": {},
   "source": [
    "### Round Keys"
   ]
  },
  {
   "cell_type": "code",
   "execution_count": 3,
   "metadata": {},
   "outputs": [
    {
     "name": "stdout",
     "output_type": "stream",
     "text": [
      "[[99, 114, 121, 112], [116, 111, 123, 114], [48, 117, 110, 100], [107, 51, 121, 125]]\n",
      "b'crypto{r0undk3y}'\n"
     ]
    }
   ],
   "source": [
    "state = [\n",
    "    [206, 243, 61, 34],\n",
    "    [171, 11, 93, 31],\n",
    "    [16, 200, 91, 108],\n",
    "    [150, 3, 194, 51],\n",
    "]\n",
    "\n",
    "round_key = [\n",
    "    [173, 129, 68, 82],\n",
    "    [223, 100, 38, 109],\n",
    "    [32, 189, 53, 8],\n",
    "    [253, 48, 187, 78],\n",
    "]\n",
    "\n",
    "\n",
    "def add_round_key(s, k):\n",
    "    return [[s[i][j] ^ k[i][j] for j in range(4)] for i in range(4)]\n",
    "\n",
    "\n",
    "round_key_val = add_round_key(state, round_key)\n",
    "print(round_key_val)\n",
    "\n",
    "val = matrix2bytes(round_key_val)\n",
    "print(val)"
   ]
  },
  {
   "cell_type": "markdown",
   "metadata": {},
   "source": [
    "### Confusion Substitution"
   ]
  },
  {
   "cell_type": "code",
   "execution_count": null,
   "metadata": {},
   "outputs": [],
   "source": []
  },
  {
   "cell_type": "markdown",
   "metadata": {},
   "source": [
    "### Diffusion Permutation"
   ]
  },
  {
   "cell_type": "code",
   "execution_count": 5,
   "metadata": {},
   "outputs": [
    {
     "name": "stdout",
     "output_type": "stream",
     "text": [
      "b'crypto{d1ffUs3R}'\n"
     ]
    }
   ],
   "source": [
    "def shift_rows(s):\n",
    "    s[0][1], s[1][1], s[2][1], s[3][1] = s[1][1], s[2][1], s[3][1], s[0][1]\n",
    "    s[0][2], s[1][2], s[2][2], s[3][2] = s[2][2], s[3][2], s[0][2], s[1][2]\n",
    "    s[0][3], s[1][3], s[2][3], s[3][3] = s[3][3], s[0][3], s[1][3], s[2][3]\n",
    "\n",
    "\n",
    "def inv_shift_rows(s):\n",
    "    s[1][1], s[2][1], s[3][1], s[0][1] = s[0][1], s[1][1], s[2][1], s[3][1]\n",
    "    s[2][2], s[3][2], s[0][2], s[1][2] = s[0][2], s[1][2], s[2][2], s[3][2]\n",
    "    s[3][3], s[0][3], s[1][3], s[2][3] = s[0][3], s[1][3], s[2][3], s[3][3]\n",
    "\n",
    "\n",
    "# learned from http://cs.ucsb.edu/~koc/cs178/projects/JT/aes.c\n",
    "xtime = lambda a: (((a << 1) ^ 0x1B) & 0xFF) if (a & 0x80) else (a << 1)\n",
    "\n",
    "\n",
    "def mix_single_column(a):\n",
    "    # see Sec 4.1.2 in The Design of Rijndael\n",
    "    t = a[0] ^ a[1] ^ a[2] ^ a[3]\n",
    "    u = a[0]\n",
    "    a[0] ^= t ^ xtime(a[0] ^ a[1])\n",
    "    a[1] ^= t ^ xtime(a[1] ^ a[2])\n",
    "    a[2] ^= t ^ xtime(a[2] ^ a[3])\n",
    "    a[3] ^= t ^ xtime(a[3] ^ u)\n",
    "\n",
    "\n",
    "def mix_columns(s):\n",
    "    for i in range(4):\n",
    "        mix_single_column(s[i])\n",
    "\n",
    "\n",
    "def inv_mix_columns(s):\n",
    "    # see Sec 4.1.3 in The Design of Rijndael\n",
    "    for i in range(4):\n",
    "        u = xtime(xtime(s[i][0] ^ s[i][2]))\n",
    "        v = xtime(xtime(s[i][1] ^ s[i][3]))\n",
    "        s[i][0] ^= u\n",
    "        s[i][1] ^= v\n",
    "        s[i][2] ^= u\n",
    "        s[i][3] ^= v\n",
    "\n",
    "    mix_columns(s)\n",
    "\n",
    "\n",
    "state = [\n",
    "    [108, 106, 71, 86],\n",
    "    [96, 62, 38, 72],\n",
    "    [42, 184, 92, 209],\n",
    "    [94, 79, 8, 54],\n",
    "]\n",
    "\n",
    "inv_mix_columns(state)\n",
    "inv_shift_rows(state)\n",
    "print(bytes(sum(state, [])))"
   ]
  },
  {
   "cell_type": "markdown",
   "metadata": {},
   "source": [
    "### Bringing It All Together"
   ]
  },
  {
   "cell_type": "code",
   "execution_count": 6,
   "metadata": {},
   "outputs": [
    {
     "name": "stdout",
     "output_type": "stream",
     "text": [
      "b'crypto{MYAES128}'\n"
     ]
    }
   ],
   "source": [
    "N_ROUNDS = 10\n",
    "\n",
    "key        = b'\\xc3,\\\\\\xa6\\xb5\\x80^\\x0c\\xdb\\x8d\\xa5z*\\xb6\\xfe\\\\'\n",
    "ciphertext = b'\\xd1O\\x14j\\xa4+O\\xb6\\xa1\\xc4\\x08B)\\x8f\\x12\\xdd'\n",
    "\n",
    "s_box = (\n",
    "    0x63, 0x7C, 0x77, 0x7B, 0xF2, 0x6B, 0x6F, 0xC5, 0x30, 0x01, 0x67, 0x2B, 0xFE, 0xD7, 0xAB, 0x76,\n",
    "    0xCA, 0x82, 0xC9, 0x7D, 0xFA, 0x59, 0x47, 0xF0, 0xAD, 0xD4, 0xA2, 0xAF, 0x9C, 0xA4, 0x72, 0xC0,\n",
    "    0xB7, 0xFD, 0x93, 0x26, 0x36, 0x3F, 0xF7, 0xCC, 0x34, 0xA5, 0xE5, 0xF1, 0x71, 0xD8, 0x31, 0x15,\n",
    "    0x04, 0xC7, 0x23, 0xC3, 0x18, 0x96, 0x05, 0x9A, 0x07, 0x12, 0x80, 0xE2, 0xEB, 0x27, 0xB2, 0x75,\n",
    "    0x09, 0x83, 0x2C, 0x1A, 0x1B, 0x6E, 0x5A, 0xA0, 0x52, 0x3B, 0xD6, 0xB3, 0x29, 0xE3, 0x2F, 0x84,\n",
    "    0x53, 0xD1, 0x00, 0xED, 0x20, 0xFC, 0xB1, 0x5B, 0x6A, 0xCB, 0xBE, 0x39, 0x4A, 0x4C, 0x58, 0xCF,\n",
    "    0xD0, 0xEF, 0xAA, 0xFB, 0x43, 0x4D, 0x33, 0x85, 0x45, 0xF9, 0x02, 0x7F, 0x50, 0x3C, 0x9F, 0xA8,\n",
    "    0x51, 0xA3, 0x40, 0x8F, 0x92, 0x9D, 0x38, 0xF5, 0xBC, 0xB6, 0xDA, 0x21, 0x10, 0xFF, 0xF3, 0xD2,\n",
    "    0xCD, 0x0C, 0x13, 0xEC, 0x5F, 0x97, 0x44, 0x17, 0xC4, 0xA7, 0x7E, 0x3D, 0x64, 0x5D, 0x19, 0x73,\n",
    "    0x60, 0x81, 0x4F, 0xDC, 0x22, 0x2A, 0x90, 0x88, 0x46, 0xEE, 0xB8, 0x14, 0xDE, 0x5E, 0x0B, 0xDB,\n",
    "    0xE0, 0x32, 0x3A, 0x0A, 0x49, 0x06, 0x24, 0x5C, 0xC2, 0xD3, 0xAC, 0x62, 0x91, 0x95, 0xE4, 0x79,\n",
    "    0xE7, 0xC8, 0x37, 0x6D, 0x8D, 0xD5, 0x4E, 0xA9, 0x6C, 0x56, 0xF4, 0xEA, 0x65, 0x7A, 0xAE, 0x08,\n",
    "    0xBA, 0x78, 0x25, 0x2E, 0x1C, 0xA6, 0xB4, 0xC6, 0xE8, 0xDD, 0x74, 0x1F, 0x4B, 0xBD, 0x8B, 0x8A,\n",
    "    0x70, 0x3E, 0xB5, 0x66, 0x48, 0x03, 0xF6, 0x0E, 0x61, 0x35, 0x57, 0xB9, 0x86, 0xC1, 0x1D, 0x9E,\n",
    "    0xE1, 0xF8, 0x98, 0x11, 0x69, 0xD9, 0x8E, 0x94, 0x9B, 0x1E, 0x87, 0xE9, 0xCE, 0x55, 0x28, 0xDF,\n",
    "    0x8C, 0xA1, 0x89, 0x0D, 0xBF, 0xE6, 0x42, 0x68, 0x41, 0x99, 0x2D, 0x0F, 0xB0, 0x54, 0xBB, 0x16,\n",
    ")\n",
    "\n",
    "inv_s_box = (\n",
    "    0x52, 0x09, 0x6A, 0xD5, 0x30, 0x36, 0xA5, 0x38, 0xBF, 0x40, 0xA3, 0x9E, 0x81, 0xF3, 0xD7, 0xFB,\n",
    "    0x7C, 0xE3, 0x39, 0x82, 0x9B, 0x2F, 0xFF, 0x87, 0x34, 0x8E, 0x43, 0x44, 0xC4, 0xDE, 0xE9, 0xCB,\n",
    "    0x54, 0x7B, 0x94, 0x32, 0xA6, 0xC2, 0x23, 0x3D, 0xEE, 0x4C, 0x95, 0x0B, 0x42, 0xFA, 0xC3, 0x4E,\n",
    "    0x08, 0x2E, 0xA1, 0x66, 0x28, 0xD9, 0x24, 0xB2, 0x76, 0x5B, 0xA2, 0x49, 0x6D, 0x8B, 0xD1, 0x25,\n",
    "    0x72, 0xF8, 0xF6, 0x64, 0x86, 0x68, 0x98, 0x16, 0xD4, 0xA4, 0x5C, 0xCC, 0x5D, 0x65, 0xB6, 0x92,\n",
    "    0x6C, 0x70, 0x48, 0x50, 0xFD, 0xED, 0xB9, 0xDA, 0x5E, 0x15, 0x46, 0x57, 0xA7, 0x8D, 0x9D, 0x84,\n",
    "    0x90, 0xD8, 0xAB, 0x00, 0x8C, 0xBC, 0xD3, 0x0A, 0xF7, 0xE4, 0x58, 0x05, 0xB8, 0xB3, 0x45, 0x06,\n",
    "    0xD0, 0x2C, 0x1E, 0x8F, 0xCA, 0x3F, 0x0F, 0x02, 0xC1, 0xAF, 0xBD, 0x03, 0x01, 0x13, 0x8A, 0x6B,\n",
    "    0x3A, 0x91, 0x11, 0x41, 0x4F, 0x67, 0xDC, 0xEA, 0x97, 0xF2, 0xCF, 0xCE, 0xF0, 0xB4, 0xE6, 0x73,\n",
    "    0x96, 0xAC, 0x74, 0x22, 0xE7, 0xAD, 0x35, 0x85, 0xE2, 0xF9, 0x37, 0xE8, 0x1C, 0x75, 0xDF, 0x6E,\n",
    "    0x47, 0xF1, 0x1A, 0x71, 0x1D, 0x29, 0xC5, 0x89, 0x6F, 0xB7, 0x62, 0x0E, 0xAA, 0x18, 0xBE, 0x1B,\n",
    "    0xFC, 0x56, 0x3E, 0x4B, 0xC6, 0xD2, 0x79, 0x20, 0x9A, 0xDB, 0xC0, 0xFE, 0x78, 0xCD, 0x5A, 0xF4,\n",
    "    0x1F, 0xDD, 0xA8, 0x33, 0x88, 0x07, 0xC7, 0x31, 0xB1, 0x12, 0x10, 0x59, 0x27, 0x80, 0xEC, 0x5F,\n",
    "    0x60, 0x51, 0x7F, 0xA9, 0x19, 0xB5, 0x4A, 0x0D, 0x2D, 0xE5, 0x7A, 0x9F, 0x93, 0xC9, 0x9C, 0xEF,\n",
    "    0xA0, 0xE0, 0x3B, 0x4D, 0xAE, 0x2A, 0xF5, 0xB0, 0xC8, 0xEB, 0xBB, 0x3C, 0x83, 0x53, 0x99, 0x61,\n",
    "    0x17, 0x2B, 0x04, 0x7E, 0xBA, 0x77, 0xD6, 0x26, 0xE1, 0x69, 0x14, 0x63, 0x55, 0x21, 0x0C, 0x7D,\n",
    ")\n",
    "\n",
    "def expand_key(master_key):\n",
    "    \"\"\"\n",
    "    Expands and returns a list of key matrices for the given master_key.\n",
    "    \"\"\"\n",
    "\n",
    "    # Round constants https://en.wikipedia.org/wiki/AES_key_schedule#Round_constants\n",
    "    r_con = (\n",
    "        0x00, 0x01, 0x02, 0x04, 0x08, 0x10, 0x20, 0x40,\n",
    "        0x80, 0x1B, 0x36, 0x6C, 0xD8, 0xAB, 0x4D, 0x9A,\n",
    "        0x2F, 0x5E, 0xBC, 0x63, 0xC6, 0x97, 0x35, 0x6A,\n",
    "        0xD4, 0xB3, 0x7D, 0xFA, 0xEF, 0xC5, 0x91, 0x39,\n",
    "    )\n",
    "\n",
    "    # Initialize round keys with raw key material.\n",
    "    key_columns = bytes2matrix(master_key)\n",
    "    iteration_size = len(master_key) // 4\n",
    "\n",
    "    # Each iteration has exactly as many columns as the key material.\n",
    "    i = 1\n",
    "    while len(key_columns) < (N_ROUNDS + 1) * 4:\n",
    "        # Copy previous word.\n",
    "        word = list(key_columns[-1])\n",
    "\n",
    "        # Perform schedule_core once every \"row\".\n",
    "        if len(key_columns) % iteration_size == 0:\n",
    "            # Circular shift.\n",
    "            word.append(word.pop(0))\n",
    "            # Map to S-BOX.\n",
    "            word = [s_box[b] for b in word]\n",
    "            # XOR with first byte of R-CON, since the others bytes of R-CON are 0.\n",
    "            word[0] ^= r_con[i]\n",
    "            i += 1\n",
    "        elif len(master_key) == 32 and len(key_columns) % iteration_size == 4:\n",
    "            # Run word through S-box in the fourth iteration when using a\n",
    "            # 256-bit key.\n",
    "            word = [s_box[b] for b in word]\n",
    "\n",
    "        # XOR with equivalent word from previous iteration.\n",
    "        word = bytes(i^j for i, j in zip(word, key_columns[-iteration_size]))\n",
    "        key_columns.append(word)\n",
    "\n",
    "    # Group key words in 4x4 byte matrices.\n",
    "    return [key_columns[4*i : 4*(i+1)] for i in range(len(key_columns) // 4)]\n",
    "\n",
    "def bytes2matrix(text):\n",
    "    \"\"\" Converts a 16-byte array into a 4x4 matrix.  \"\"\"\n",
    "    return [list(text[i:i+4]) for i in range(0, len(text), 4)]\n",
    "\n",
    "def matrix2bytes(matrix):\n",
    "    \"\"\" Converts a 4x4 matrix into a 16-byte array.  \"\"\"\n",
    "    return b''.join(bytes([a]) for row in matrix for a in row)\n",
    "\n",
    "def add_round_key(s, k):\n",
    "    return [[s[i][j]^k[i][j] for j in range(4)] for i in range(4)]\n",
    "\n",
    "def inv_shift_rows(s):\n",
    "    s[1][1], s[2][1], s[3][1], s[0][1] = s[0][1], s[1][1], s[2][1], s[3][1]\n",
    "    s[2][2], s[3][2], s[0][2], s[1][2] = s[0][2], s[1][2], s[2][2], s[3][2]\n",
    "    s[3][3], s[0][3], s[1][3], s[2][3] = s[0][3], s[1][3], s[2][3], s[3][3]\n",
    "\n",
    "# learned from http://cs.ucsb.edu/~koc/cs178/projects/JT/aes.c\n",
    "xtime = lambda a: (((a << 1) ^ 0x1B) & 0xFF) if (a & 0x80) else (a << 1)\n",
    "\n",
    "def mix_single_column(a):\n",
    "    # see Sec 4.1.2 in The Design of Rijndael\n",
    "    t = a[0] ^ a[1] ^ a[2] ^ a[3]\n",
    "    u = a[0]\n",
    "    a[0] ^= t ^ xtime(a[0] ^ a[1])\n",
    "    a[1] ^= t ^ xtime(a[1] ^ a[2])\n",
    "    a[2] ^= t ^ xtime(a[2] ^ a[3])\n",
    "    a[3] ^= t ^ xtime(a[3] ^ u)\n",
    "\n",
    "def mix_columns(s):\n",
    "    for i in range(4):\n",
    "        mix_single_column(s[i])\n",
    "\n",
    "def inv_mix_columns(s):\n",
    "    # see Sec 4.1.3 in The Design of Rijndael\n",
    "    for i in range(4):\n",
    "        u = xtime(xtime(s[i][0] ^ s[i][2]))\n",
    "        v = xtime(xtime(s[i][1] ^ s[i][3]))\n",
    "        s[i][0] ^= u\n",
    "        s[i][1] ^= v\n",
    "        s[i][2] ^= u\n",
    "        s[i][3] ^= v\n",
    "    mix_columns(s)\n",
    "\n",
    "def sub_bytes(s, sbox=s_box):\n",
    "    return [[int(sbox[a]) for a in row] for row in s]\n",
    "\n",
    "def decrypt(key, ciphertext):\n",
    "    round_keys = expand_key(key) # Remember to start from the last round key and work backwards through them when decrypting\n",
    "\n",
    "    # Convert ciphertext to state matrix\n",
    "    state = bytes2matrix(ciphertext)\n",
    "    \n",
    "    # Initial add round key step\n",
    "    state = add_round_key(state, round_keys.pop())\n",
    "\n",
    "    for i in range(N_ROUNDS - 1, 0, -1):\n",
    "        # Do round\n",
    "        inv_shift_rows(state)\n",
    "        state = sub_bytes(state, sbox=inv_s_box)\n",
    "        state = add_round_key(state, round_keys.pop())\n",
    "        inv_mix_columns(state)\n",
    "\n",
    "    # Run final round (skips the InvMixColumns step)\n",
    "    inv_shift_rows(state)\n",
    "    state = sub_bytes(state, sbox=inv_s_box)\n",
    "    state = add_round_key(state, round_keys.pop())\n",
    "\n",
    "    plaintext = matrix2bytes(state) # Convert state matrix to plaintext\n",
    "\n",
    "    return plaintext\n",
    "\n",
    "print(decrypt(key, ciphertext))"
   ]
  },
  {
   "cell_type": "markdown",
   "metadata": {},
   "source": [
    "### Modes of Operation Starter"
   ]
  },
  {
   "cell_type": "code",
   "execution_count": 13,
   "metadata": {},
   "outputs": [
    {
     "name": "stdout",
     "output_type": "stream",
     "text": [
      "{'ciphertext': 'bf791ff22629657bedc29428674f686758cc40d847834a4665a205bf540fbdfb'}\n",
      "63727970746f7b626c30636b5f633170683372355f3472335f663435375f217d\n",
      "crypto{bl0ck_c1ph3r5_4r3_f457_!}\n"
     ]
    }
   ],
   "source": [
    "\n",
    "import requests\n",
    "\n",
    "url = \"https://aes.cryptohack.org/block_cipher_starter/\"\n",
    "# Get the flag\n",
    "flag = requests.get(url + \"encrypt_flag/\").json()\n",
    "print(flag)\n",
    "hex = requests.get(url + \"decrypt/\" + flag[\"ciphertext\"] ).json().get(\"plaintext\")\n",
    "print(hex)\n",
    "print(bytes.fromhex(hex).decode())"
   ]
  },
  {
   "cell_type": "markdown",
   "metadata": {},
   "source": [
    "### Passwords as Keys"
   ]
  },
  {
   "cell_type": "code",
   "execution_count": 19,
   "metadata": {},
   "outputs": [
    {
     "name": "stdout",
     "output_type": "stream",
     "text": [
      "crypto{k3y5__r__n07__p455w0rdz?}\n"
     ]
    }
   ],
   "source": [
    "from Crypto.Cipher import AES\n",
    "import requests, hashlib\n",
    "\n",
    "def decrypt(word):\n",
    "    key = hashlib.md5(word).digest()\n",
    "    cipher = AES.new(key, AES.MODE_ECB)\n",
    "    return cipher.decrypt(ciphertext)\n",
    "\n",
    "wordlist = requests.get(\"https://gist.githubusercontent.com/wchargin/8927565/raw/d9783627c731268fb2935a731a618aa8e95cf465/words\").content.splitlines()\n",
    "ciphertext = bytes.fromhex(requests.get(\"https://aes.cryptohack.org/passwords_as_keys/encrypt_flag/\").json()[\"ciphertext\"])\n",
    "\n",
    "for word in wordlist:\n",
    "    plaintext = decrypt(word)\n",
    "    try:\n",
    "        print(plaintext.decode())\n",
    "    except:\n",
    "        continue\n",
    "    "
   ]
  },
  {
   "cell_type": "markdown",
   "metadata": {},
   "source": [
    "### ECB Oracle"
   ]
  },
  {
   "cell_type": "code",
   "execution_count": 25,
   "metadata": {},
   "outputs": [],
   "source": [
    "import requests\n",
    "import string"
   ]
  },
  {
   "cell_type": "code",
   "execution_count": 26,
   "metadata": {},
   "outputs": [],
   "source": [
    "url = 'https://aes.cryptohack.org/ecb_oracle/encrypt'"
   ]
  },
  {
   "cell_type": "code",
   "execution_count": 42,
   "metadata": {},
   "outputs": [],
   "source": [
    "def encrypt(cipher):\n",
    "    hex_result = cipher.hex()\n",
    "    r = requests.get(f\"{url}/{hex_result}/\")\n",
    "    r.raise_for_status()\n",
    "    return bytes.fromhex(r.json()['ciphertext'])"
   ]
  },
  {
   "cell_type": "code",
   "execution_count": 43,
   "metadata": {},
   "outputs": [],
   "source": [
    "def get_block_size():\n",
    "    encrypt_len = len(encrypt(b\"A\")) \n",
    "    for i in range(2, 65): \n",
    "        v = len(encrypt(b\"A\" * i))\n",
    "        if v != encrypt_len:\n",
    "            return v - encrypt_len"
   ]
  },
  {
   "cell_type": "code",
   "execution_count": 44,
   "metadata": {},
   "outputs": [],
   "source": [
    "def get_flag():\n",
    "    block_size = get_block_size()\n",
    "\n",
    "    flag = b\"\"\n",
    "\n",
    "    for _ in range(64):\n",
    "        pad_len = (block_size - 1) - (len(flag) % block_size)\n",
    "        \n",
    "        if pad_len == 0:\n",
    "            prefix = b\"A\" * block_size\n",
    "        else:\n",
    "            prefix = b\"A\" * pad_len\n",
    "\n",
    "        ct = encrypt(prefix)\n",
    "        block_index = (len(prefix) + len(flag)) // block_size\n",
    "        target_block = ct[block_index * block_size:(block_index + 1) * block_size]\n",
    "\n",
    "        # brute‐force the next byte\n",
    "        for c in (string.ascii_letters + string.digits + \"_{}\").encode():\n",
    "            guess = prefix + flag + bytes([c])\n",
    "            gct = encrypt(guess)\n",
    "            guess_block = gct[block_index * block_size:(block_index + 1) * block_size]\n",
    "            if guess_block == target_block:\n",
    "                flag += bytes([c])\n",
    "                print(f\"Flag: {flag.decode()}\")\n",
    "                break\n",
    "\n",
    "        if flag.endswith(b\"}\"):\n",
    "            print(\"Flag found!\")\n",
    "            break\n",
    "\n",
    "    return flag.decode()"
   ]
  },
  {
   "cell_type": "code",
   "execution_count": 38,
   "metadata": {},
   "outputs": [
    {
     "name": "stderr",
     "output_type": "stream",
     "text": [
      "<>:2: SyntaxWarning: invalid escape sequence '\\C'\n",
      "<>:2: SyntaxWarning: invalid escape sequence '\\C'\n",
      "/var/folders/j4/9n23z0d56_56ygtb0hhdmhxh0000gn/T/ipykernel_35232/1522367483.py:2: SyntaxWarning: invalid escape sequence '\\C'\n",
      "  print(f\"\\Complete Flag: {flag}\")\n"
     ]
    },
    {
     "name": "stdout",
     "output_type": "stream",
     "text": [
      "Flag: c\n",
      "Flag: cr\n",
      "Flag: cry\n",
      "Flag: cryp\n",
      "Flag: crypt\n",
      "Flag: crypto\n",
      "Flag: crypto{\n",
      "Flag: crypto{p\n",
      "Flag: crypto{p3\n",
      "Flag: crypto{p3n\n",
      "Flag: crypto{p3n6\n",
      "Flag: crypto{p3n6u\n",
      "Flag: crypto{p3n6u1\n",
      "Flag: crypto{p3n6u1n\n",
      "Flag: crypto{p3n6u1n5\n",
      "Flag: crypto{p3n6u1n5_\n",
      "Flag: crypto{p3n6u1n5_h\n",
      "Flag: crypto{p3n6u1n5_h4\n",
      "Flag: crypto{p3n6u1n5_h47\n",
      "Flag: crypto{p3n6u1n5_h473\n",
      "Flag: crypto{p3n6u1n5_h473_\n",
      "Flag: crypto{p3n6u1n5_h473_3\n",
      "Flag: crypto{p3n6u1n5_h473_3c\n",
      "Flag: crypto{p3n6u1n5_h473_3cb\n",
      "Flag: crypto{p3n6u1n5_h473_3cb}\n",
      "Flag found!\n",
      "\\Complete Flag: crypto{p3n6u1n5_h473_3cb}\n"
     ]
    }
   ],
   "source": [
    "flag = get_flag()\n",
    "print(f\"\\Complete Flag: {flag}\")"
   ]
  },
  {
   "cell_type": "markdown",
   "metadata": {},
   "source": [
    "### ECB CBC WTF"
   ]
  },
  {
   "cell_type": "code",
   "execution_count": 78,
   "metadata": {},
   "outputs": [],
   "source": [
    "import requests\n",
    "from binascii import unhexlify"
   ]
  },
  {
   "cell_type": "code",
   "execution_count": 79,
   "metadata": {},
   "outputs": [
    {
     "name": "stdout",
     "output_type": "stream",
     "text": [
      "{'ciphertext': '5194bfe4ef3487b45ecf9619ecd10c1de0ed114bbad84721b0957941f6a38f89afdc5db35bbc794cb3ec4f0b0d4af297'}\n"
     ]
    }
   ],
   "source": [
    "print(requests.get(\"http://aes.cryptohack.org/ecbcbcwtf/encrypt_flag\").json())"
   ]
  },
  {
   "cell_type": "code",
   "execution_count": 80,
   "metadata": {},
   "outputs": [],
   "source": [
    "def decrypt_block(hex):\n",
    "    URL_decrypt = \"http://aes.cryptohack.org/ecbcbcwtf/decrypt\"\n",
    "    r = requests.get(f\"{URL_decrypt}/{hex}/\")\n",
    "    plain_hex = r.json().get(\"plaintext\")\n",
    "    return unhexlify(plain_hex)"
   ]
  },
  {
   "cell_type": "code",
   "execution_count": 89,
   "metadata": {},
   "outputs": [],
   "source": [
    "def get_flag():\n",
    "    URL_encrypt = \"http://aes.cryptohack.org/ecbcbcwtf/encrypt_flag\"\n",
    "    r = requests.get(URL_encrypt)\n",
    "    ciphertext = r.json()[\"ciphertext\"]\n",
    "\n",
    "    # 16 byte block size\n",
    "    iv = unhexlify(ciphertext[:32])\n",
    "    blocks = [ciphertext[i:i+32] for i in range(32, len(ciphertext), 32)]\n",
    "    print(f\"blocks {blocks}\")\n",
    "    plaintext = b\"\"\n",
    "    prev = iv\n",
    "    for block_hex in blocks:\n",
    "        decrypted = decrypt_block(block_hex)\n",
    "        pt_block = bytes(a ^ b for a, b in zip(decrypted, prev))\n",
    "        plaintext += pt_block\n",
    "        prev = unhexlify(block_hex)\n",
    "\n",
    "\n",
    "    flag = plaintext.decode('ascii')\n",
    "    print(\"flag:\", flag)"
   ]
  },
  {
   "cell_type": "code",
   "execution_count": 88,
   "metadata": {},
   "outputs": [
    {
     "name": "stdout",
     "output_type": "stream",
     "text": [
      "blocks ['2da5501a4d38d7d3c3f6f6c71cf70b3c', 'f339d072908087d4baa6d4c12c7cf13c']\n",
      " flag: crypto{3cb_5uck5_4v01d_17_!!!!!}\n"
     ]
    }
   ],
   "source": [
    "get_flag()"
   ]
  },
  {
   "cell_type": "markdown",
   "metadata": {},
   "source": [
    "### Flipping Cookie"
   ]
  },
  {
   "cell_type": "code",
   "execution_count": 95,
   "metadata": {},
   "outputs": [
    {
     "name": "stdout",
     "output_type": "stream",
     "text": [
      "5c260840c10169a64a08e94840beb1ba763f1747188ce1925a8fb9c53e2171c258dd6a7a8717270331946cc2c203f288\n",
      "{'flag': 'crypto{4u7h3n71c4710n_15_3553n714l}'}\n"
     ]
    }
   ],
   "source": [
    "import requests\n",
    "from binascii import unhexlify, hexlify\n",
    "\n",
    "\n",
    "# 1. Fetch your cookie (IV||ciphertext in hex)\n",
    "r = requests.get(f\"https://aes.cryptohack.org/flipping_cookie/get_cookie/\")\n",
    "cookie = r.json()[\"cookie\"]\n",
    "print(cookie)\n",
    "iv_hex = cookie[:32]\n",
    "ct_hex = cookie[32:]\n",
    "\n",
    "# 2. Prepare deltas for positions 6..10\n",
    "deltas = {\n",
    "    6:  0x46 ^ 0x54,\n",
    "    7:  0x61 ^ 0x72,\n",
    "    8:  0x6c ^ 0x75,\n",
    "    9:  0x73 ^ 0x65,\n",
    "    10: 0x65 ^ 0x3b,\n",
    "}\n",
    "\n",
    "# 3. Flip bits in the IV\n",
    "iv = bytearray(unhexlify(iv_hex))\n",
    "for pos, d in deltas.items():\n",
    "    iv[pos] ^= d\n",
    "iv_mod = hexlify(iv).decode()\n",
    "\n",
    "# 4. Send modified IV + original ciphertext\n",
    "result = requests.get(f\"https://aes.cryptohack.org/flipping_cookie/check_admin/{ct_hex}/{iv_mod}/\")\n",
    "print(result.json())\n"
   ]
  },
  {
   "cell_type": "markdown",
   "metadata": {},
   "source": [
    "### Symmetry"
   ]
  },
  {
   "cell_type": "code",
   "execution_count": 103,
   "metadata": {},
   "outputs": [],
   "source": [
    "import requests"
   ]
  },
  {
   "cell_type": "code",
   "execution_count": 104,
   "metadata": {},
   "outputs": [],
   "source": [
    "url = 'http://aes.cryptohack.org/symmetry'"
   ]
  },
  {
   "cell_type": "code",
   "execution_count": 126,
   "metadata": {},
   "outputs": [],
   "source": [
    "def get_flag():\n",
    "  r = requests.get(f\"{url}/encrypt_flag/\").json()\n",
    "  ciphertext = bytes.fromhex(r['ciphertext'])\n",
    "\n",
    "  # IV and cipher at lenght 16 based on site\n",
    "  iv = ciphertext[:16]\n",
    "  ciphertext = ciphertext[16:]\n",
    "\n",
    "  response = requests.get(url=f\"{url}/encrypt/{ciphertext.hex()}/{iv.hex()}\").json()\n",
    "  plaintext = bytes.fromhex(response['ciphertext'])\n",
    "  print(plaintext)"
   ]
  },
  {
   "cell_type": "code",
   "execution_count": 127,
   "metadata": {},
   "outputs": [
    {
     "name": "stdout",
     "output_type": "stream",
     "text": [
      "b'crypto{0fb_15_5ymm37r1c4l_!!!11!}'\n",
      "None\n"
     ]
    }
   ],
   "source": [
    "print(get_flag())"
   ]
  }
 ],
 "metadata": {
  "kernelspec": {
   "display_name": ".venv",
   "language": "python",
   "name": "python3"
  },
  "language_info": {
   "codemirror_mode": {
    "name": "ipython",
    "version": 3
   },
   "file_extension": ".py",
   "mimetype": "text/x-python",
   "name": "python",
   "nbconvert_exporter": "python",
   "pygments_lexer": "ipython3",
   "version": "3.13.2"
  }
 },
 "nbformat": 4,
 "nbformat_minor": 2
}
