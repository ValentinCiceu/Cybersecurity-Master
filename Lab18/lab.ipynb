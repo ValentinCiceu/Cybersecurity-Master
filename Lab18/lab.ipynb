{
 "cells": [
  {
   "cell_type": "code",
   "execution_count": 5,
   "metadata": {},
   "outputs": [
    {
     "name": "stdout",
     "output_type": "stream",
     "text": [
      "Keystream bytes: e945bb1c4bafae16\n"
     ]
    }
   ],
   "source": [
    "with open(\"flag.enc\", \"rb\") as f:\n",
    "    encrypted_data = f.read()\n",
    "\n",
    "# Known PNG header\n",
    "png_header = bytes([0x89, 0x50, 0x4E, 0x47, 0x0D, 0x0A, 0x1A, 0x0A])\n",
    "\n",
    "# Extract partial keystream\n",
    "partial_keystream = bytes([e ^ p for e, p in zip(encrypted_data[:8], png_header)])\n",
    "print(\"Keystream bytes:\", partial_keystream.hex())\n"
   ]
  },
  {
   "cell_type": "code",
   "execution_count": 6,
   "metadata": {},
   "outputs": [],
   "source": [
    "bitstream = []\n",
    "for byte in partial_keystream:\n",
    "    bits = f\"{byte:08b}\"\n",
    "    bitstream.extend([int(b) for b in bits])\n"
   ]
  },
  {
   "cell_type": "code",
   "execution_count": 7,
   "metadata": {},
   "outputs": [],
   "source": [
    "ihdr_chunk = bytes([0x49, 0x48, 0x44, 0x52])\n",
    "more_ciphertext = encrypted_data[8:12]\n",
    "more_keystream = bytes([a ^ b for a, b in zip(more_ciphertext, ihdr_chunk)])\n"
   ]
  },
  {
   "cell_type": "code",
   "execution_count": 8,
   "metadata": {},
   "outputs": [],
   "source": [
    "def berlekamp_massey(sequence):\n",
    "    n = len(sequence)\n",
    "    c = [0] * n\n",
    "    b = [0] * n\n",
    "    c[0], b[0] = 1, 1\n",
    "    l, m, d = 0, -1, 0\n",
    "\n",
    "    for i in range(n):\n",
    "        d = sequence[i]\n",
    "        for j in range(1, l+1):\n",
    "            d ^= c[j] & sequence[i-j]\n",
    "        if d == 1:\n",
    "            t = c[:]\n",
    "            for j in range(i - m, n):\n",
    "                c[j] ^= b[j - (i - m)]\n",
    "            if 2 * l <= i:\n",
    "                l = i + 1 - l\n",
    "                m = i\n",
    "                b = t\n",
    "    return c[:l+1]"
   ]
  },
  {
   "cell_type": "code",
   "execution_count": 9,
   "metadata": {},
   "outputs": [],
   "source": [
    "lfsr_poly = berlekamp_massey(bitstream)"
   ]
  },
  {
   "cell_type": "code",
   "execution_count": 17,
   "metadata": {},
   "outputs": [
    {
     "data": {
      "text/plain": [
       "[1, 1, 1, 1, 0]"
      ]
     },
     "execution_count": 17,
     "metadata": {},
     "output_type": "execute_result"
    }
   ],
   "source": [
    "lfsr_poly[:5]"
   ]
  },
  {
   "cell_type": "code",
   "execution_count": 18,
   "metadata": {},
   "outputs": [
    {
     "data": {
      "text/plain": [
       "33"
      ]
     },
     "execution_count": 18,
     "metadata": {},
     "output_type": "execute_result"
    }
   ],
   "source": [
    "len(lfsr_poly)"
   ]
  },
  {
   "cell_type": "code",
   "execution_count": 10,
   "metadata": {},
   "outputs": [],
   "source": [
    "def lfsr(seed, taps, length):\n",
    "    reg = seed[:]\n",
    "    output = []\n",
    "    for _ in range(length):\n",
    "        output.append(reg[0])\n",
    "        feedback = 0\n",
    "        for t in taps:\n",
    "            feedback ^= reg[t]\n",
    "        reg = reg[1:] + [feedback]\n",
    "    return output\n"
   ]
  },
  {
   "cell_type": "code",
   "execution_count": 15,
   "metadata": {},
   "outputs": [],
   "source": [
    "seed = bitstream[:len(lfsr_poly) - 1]\n",
    "taps = [i for i, b in enumerate(lfsr_poly[1:], start=0) if b == 1]\n"
   ]
  },
  {
   "cell_type": "code",
   "execution_count": null,
   "metadata": {},
   "outputs": [],
   "source": [
    "from bitarray import bitarray\n",
    "keystream_bytes = bitarray(bitstream).tobytes()\n"
   ]
  },
  {
   "cell_type": "code",
   "execution_count": null,
   "metadata": {},
   "outputs": [],
   "source": [
    "decrypted = bytes([a ^ b for a, b in zip(encrypted_data, keystream_bytes)])\n"
   ]
  },
  {
   "cell_type": "code",
   "execution_count": 13,
   "metadata": {},
   "outputs": [],
   "source": [
    "from bitarray import bitarray\n",
    "\n",
    "keystream_bits = lfsr(seed=bitstream[:len(lfsr_poly)-1], taps=[i for i, bit in enumerate(lfsr_poly[1:], start=0) if bit], length=len(encrypted_data)*8)\n",
    "keystream_bytes = bitarray(keystream_bits).tobytes()\n",
    "\n",
    "decrypted = bytes([a ^ b for a, b in zip(encrypted_data, keystream_bytes)])\n"
   ]
  },
  {
   "cell_type": "code",
   "execution_count": 14,
   "metadata": {},
   "outputs": [],
   "source": [
    "with open(\"flag.png\", \"wb\") as f:\n",
    "    f.write(decrypted)\n"
   ]
  }
 ],
 "metadata": {
  "kernelspec": {
   "display_name": ".venv",
   "language": "python",
   "name": "python3"
  },
  "language_info": {
   "codemirror_mode": {
    "name": "ipython",
    "version": 3
   },
   "file_extension": ".py",
   "mimetype": "text/x-python",
   "name": "python",
   "nbconvert_exporter": "python",
   "pygments_lexer": "ipython3",
   "version": "3.13.2"
  }
 },
 "nbformat": 4,
 "nbformat_minor": 2
}
